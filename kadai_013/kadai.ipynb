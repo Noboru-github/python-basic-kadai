{
  "nbformat": 4,
  "nbformat_minor": 0,
  "metadata": {
    "colab": {
      "provenance": [],
      "authorship_tag": "ABX9TyPGppjUphuF/2jXzzBNxQZO",
      "include_colab_link": true
    },
    "kernelspec": {
      "name": "python3",
      "display_name": "Python 3"
    },
    "language_info": {
      "name": "python"
    }
  },
  "cells": [
    {
      "cell_type": "markdown",
      "metadata": {
        "id": "view-in-github",
        "colab_type": "text"
      },
      "source": [
        "<a href=\"https://colab.research.google.com/github/Noboru-github/python-basic-kadai/blob/main/kadai_013/kadai.ipynb\" target=\"_parent\"><img src=\"https://colab.research.google.com/assets/colab-badge.svg\" alt=\"Open In Colab\"/></a>"
      ]
    },
    {
      "cell_type": "code",
      "execution_count": null,
      "metadata": {
        "id": "8gxK_htS5X9A"
      },
      "outputs": [],
      "source": [
        "#kadai_013\n",
        "\n",
        "def add_tax(price, tax_rate):\n",
        "    tax_rate /= 100\n",
        "    total = price + price * tax_rate\n",
        "    print(f\"税込{total}円です\")\n",
        "\n",
        "add_tax(1000, 10)"
      ]
    }
  ]
}