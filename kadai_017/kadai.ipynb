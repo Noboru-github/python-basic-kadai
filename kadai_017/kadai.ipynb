{
  "nbformat": 4,
  "nbformat_minor": 0,
  "metadata": {
    "colab": {
      "provenance": [],
      "authorship_tag": "ABX9TyO++jZwWyemxbaHQ5WwIb4P",
      "include_colab_link": true
    },
    "kernelspec": {
      "name": "python3",
      "display_name": "Python 3"
    },
    "language_info": {
      "name": "python"
    }
  },
  "cells": [
    {
      "cell_type": "markdown",
      "metadata": {
        "id": "view-in-github",
        "colab_type": "text"
      },
      "source": [
        "<a href=\"https://colab.research.google.com/github/Noboru-github/python-basic-kadai/blob/main/kadai_017/kadai.ipynb\" target=\"_parent\"><img src=\"https://colab.research.google.com/assets/colab-badge.svg\" alt=\"Open In Colab\"/></a>"
      ]
    },
    {
      "cell_type": "code",
      "execution_count": null,
      "metadata": {
        "id": "lm_FSPzWA_IR"
      },
      "outputs": [],
      "source": [
        "#kadai_017\n",
        "class Human:\n",
        "    def __init__(self, name, age):\n",
        "        self.name = name\n",
        "        self.age = age\n",
        "\n",
        "    def check_adult(self):\n",
        "        if self.age >= 20:\n",
        "            print(f\"{self.name}さんは{self.age}歳で成人です。\")\n",
        "        else:\n",
        "            print(f\"{self.name}さんは{self.age}歳で未成年です。\")\n",
        "\n",
        "\n",
        "human1 = Human(\"侍太郎\", 35)\n",
        "human2 = Human(\"侍二郎\", 32)\n",
        "human3 = Human(\"侍三郎\", 20)\n",
        "human4 = Human(\"侍四郎\", 18)\n",
        "human5 = Human(\"侍花子\", 16)\n",
        "human6 = Human(\"侍じいや\", 78)\n",
        "\n",
        "people = [human1, human2, human3, human4, human5, human6]\n",
        "\n",
        "for human in people:\n",
        "    human.check_adult()\n"
      ]
    }
  ]
}